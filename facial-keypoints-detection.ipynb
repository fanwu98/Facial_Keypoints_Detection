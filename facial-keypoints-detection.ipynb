{
 "cells": [
  {
   "cell_type": "code",
   "execution_count": 1,
   "id": "cab145a0",
   "metadata": {
    "_cell_guid": "b1076dfc-b9ad-4769-8c92-a6c4dae69d19",
    "_uuid": "8f2839f25d086af736a60e9eeb907d3b93b6e0e5",
    "execution": {
     "iopub.execute_input": "2023-05-05T05:31:44.898383Z",
     "iopub.status.busy": "2023-05-05T05:31:44.896858Z",
     "iopub.status.idle": "2023-05-05T05:31:55.231755Z",
     "shell.execute_reply": "2023-05-05T05:31:55.229896Z"
    },
    "papermill": {
     "duration": 10.348297,
     "end_time": "2023-05-05T05:31:55.235008",
     "exception": false,
     "start_time": "2023-05-05T05:31:44.886711",
     "status": "completed"
    },
    "tags": []
   },
   "outputs": [],
   "source": [
    "import numpy as np\n",
    "import pandas as pd \n",
    "import matplotlib.pyplot as plt\n",
    "import tensorflow as tf"
   ]
  },
  {
   "cell_type": "code",
   "execution_count": 2,
   "id": "235f9967",
   "metadata": {
    "execution": {
     "iopub.execute_input": "2023-05-05T05:31:55.253193Z",
     "iopub.status.busy": "2023-05-05T05:31:55.251237Z",
     "iopub.status.idle": "2023-05-05T05:31:55.261532Z",
     "shell.execute_reply": "2023-05-05T05:31:55.260161Z"
    },
    "papermill": {
     "duration": 0.022236,
     "end_time": "2023-05-05T05:31:55.264560",
     "exception": false,
     "start_time": "2023-05-05T05:31:55.242324",
     "status": "completed"
    },
    "tags": []
   },
   "outputs": [
    {
     "name": "stdout",
     "output_type": "stream",
     "text": [
      "/kaggle/input/facial-keypoints-detection/training.zip\n",
      "/kaggle/input/facial-keypoints-detection/SampleSubmission.csv\n",
      "/kaggle/input/facial-keypoints-detection/IdLookupTable.csv\n",
      "/kaggle/input/facial-keypoints-detection/test.zip\n"
     ]
    }
   ],
   "source": [
    "import os\n",
    "for dirname, _, filenames in os.walk('/kaggle/input'):\n",
    "    for filename in filenames:\n",
    "        print(os.path.join(dirname, filename))"
   ]
  },
  {
   "cell_type": "markdown",
   "id": "d8b20758",
   "metadata": {
    "papermill": {
     "duration": 0.006678,
     "end_time": "2023-05-05T05:31:55.278504",
     "exception": false,
     "start_time": "2023-05-05T05:31:55.271826",
     "status": "completed"
    },
    "tags": []
   },
   "source": [
    "# Data Extraction and Preparation"
   ]
  },
  {
   "cell_type": "code",
   "execution_count": 3,
   "id": "12c53531",
   "metadata": {
    "execution": {
     "iopub.execute_input": "2023-05-05T05:31:55.296920Z",
     "iopub.status.busy": "2023-05-05T05:31:55.296486Z",
     "iopub.status.idle": "2023-05-05T05:32:00.511139Z",
     "shell.execute_reply": "2023-05-05T05:32:00.509251Z"
    },
    "papermill": {
     "duration": 5.227949,
     "end_time": "2023-05-05T05:32:00.514614",
     "exception": false,
     "start_time": "2023-05-05T05:31:55.286665",
     "status": "completed"
    },
    "tags": []
   },
   "outputs": [
    {
     "name": "stdout",
     "output_type": "stream",
     "text": [
      "Archive:  /kaggle/input/facial-keypoints-detection/training.zip\r\n",
      "  inflating: training.csv            \r\n",
      "Archive:  /kaggle/input/facial-keypoints-detection/test.zip\r\n",
      "  inflating: test.csv                \r\n"
     ]
    }
   ],
   "source": [
    "# unzip dataset\n",
    "!unzip /kaggle/input/facial-keypoints-detection/training.zip \n",
    "!unzip /kaggle/input/facial-keypoints-detection/test.zip"
   ]
  },
  {
   "cell_type": "code",
   "execution_count": 4,
   "id": "4026e234",
   "metadata": {
    "execution": {
     "iopub.execute_input": "2023-05-05T05:32:00.531940Z",
     "iopub.status.busy": "2023-05-05T05:32:00.531454Z",
     "iopub.status.idle": "2023-05-05T05:32:04.018591Z",
     "shell.execute_reply": "2023-05-05T05:32:04.017184Z"
    },
    "papermill": {
     "duration": 3.499472,
     "end_time": "2023-05-05T05:32:04.021399",
     "exception": false,
     "start_time": "2023-05-05T05:32:00.521927",
     "status": "completed"
    },
    "tags": []
   },
   "outputs": [
    {
     "data": {
      "text/plain": [
       "((7049, 31), (1783, 2))"
      ]
     },
     "execution_count": 4,
     "metadata": {},
     "output_type": "execute_result"
    }
   ],
   "source": [
    "lookup = pd.read_csv('../input/facial-keypoints-detection/IdLookupTable.csv')\n",
    "\n",
    "# Load train and test data\n",
    "train_csv = pd.read_csv('/kaggle/working/training.csv')\n",
    "test_csv = pd.read_csv('/kaggle/working/test.csv')\n",
    "\n",
    "# See how many records and varibales in train dataset and test dataset\n",
    "train_csv.shape, test_csv.shape"
   ]
  },
  {
   "cell_type": "markdown",
   "id": "2e1ac36f",
   "metadata": {
    "papermill": {
     "duration": 0.007692,
     "end_time": "2023-05-05T05:32:04.036953",
     "exception": false,
     "start_time": "2023-05-05T05:32:04.029261",
     "status": "completed"
    },
    "tags": []
   },
   "source": [
    "we can see that train dataset has 7049 records and 31 columns"
   ]
  },
  {
   "cell_type": "code",
   "execution_count": 5,
   "id": "3c20034f",
   "metadata": {
    "execution": {
     "iopub.execute_input": "2023-05-05T05:32:04.055236Z",
     "iopub.status.busy": "2023-05-05T05:32:04.054816Z",
     "iopub.status.idle": "2023-05-05T05:32:04.088365Z",
     "shell.execute_reply": "2023-05-05T05:32:04.086624Z"
    },
    "papermill": {
     "duration": 0.046548,
     "end_time": "2023-05-05T05:32:04.091382",
     "exception": false,
     "start_time": "2023-05-05T05:32:04.044834",
     "status": "completed"
    },
    "tags": []
   },
   "outputs": [
    {
     "data": {
      "text/html": [
       "<div>\n",
       "<style scoped>\n",
       "    .dataframe tbody tr th:only-of-type {\n",
       "        vertical-align: middle;\n",
       "    }\n",
       "\n",
       "    .dataframe tbody tr th {\n",
       "        vertical-align: top;\n",
       "    }\n",
       "\n",
       "    .dataframe thead th {\n",
       "        text-align: right;\n",
       "    }\n",
       "</style>\n",
       "<table border=\"1\" class=\"dataframe\">\n",
       "  <thead>\n",
       "    <tr style=\"text-align: right;\">\n",
       "      <th></th>\n",
       "      <th>RowId</th>\n",
       "      <th>ImageId</th>\n",
       "      <th>FeatureName</th>\n",
       "      <th>Location</th>\n",
       "    </tr>\n",
       "  </thead>\n",
       "  <tbody>\n",
       "    <tr>\n",
       "      <th>0</th>\n",
       "      <td>1</td>\n",
       "      <td>1</td>\n",
       "      <td>left_eye_center_x</td>\n",
       "      <td>NaN</td>\n",
       "    </tr>\n",
       "    <tr>\n",
       "      <th>1</th>\n",
       "      <td>2</td>\n",
       "      <td>1</td>\n",
       "      <td>left_eye_center_y</td>\n",
       "      <td>NaN</td>\n",
       "    </tr>\n",
       "    <tr>\n",
       "      <th>2</th>\n",
       "      <td>3</td>\n",
       "      <td>1</td>\n",
       "      <td>right_eye_center_x</td>\n",
       "      <td>NaN</td>\n",
       "    </tr>\n",
       "    <tr>\n",
       "      <th>3</th>\n",
       "      <td>4</td>\n",
       "      <td>1</td>\n",
       "      <td>right_eye_center_y</td>\n",
       "      <td>NaN</td>\n",
       "    </tr>\n",
       "    <tr>\n",
       "      <th>4</th>\n",
       "      <td>5</td>\n",
       "      <td>1</td>\n",
       "      <td>left_eye_inner_corner_x</td>\n",
       "      <td>NaN</td>\n",
       "    </tr>\n",
       "  </tbody>\n",
       "</table>\n",
       "</div>"
      ],
      "text/plain": [
       "   RowId  ImageId              FeatureName  Location\n",
       "0      1        1        left_eye_center_x       NaN\n",
       "1      2        1        left_eye_center_y       NaN\n",
       "2      3        1       right_eye_center_x       NaN\n",
       "3      4        1       right_eye_center_y       NaN\n",
       "4      5        1  left_eye_inner_corner_x       NaN"
      ]
     },
     "execution_count": 5,
     "metadata": {},
     "output_type": "execute_result"
    }
   ],
   "source": [
    "lookup.head()"
   ]
  },
  {
   "cell_type": "code",
   "execution_count": 6,
   "id": "976d124c",
   "metadata": {
    "execution": {
     "iopub.execute_input": "2023-05-05T05:32:04.110105Z",
     "iopub.status.busy": "2023-05-05T05:32:04.109694Z",
     "iopub.status.idle": "2023-05-05T05:32:04.123173Z",
     "shell.execute_reply": "2023-05-05T05:32:04.121503Z"
    },
    "papermill": {
     "duration": 0.026904,
     "end_time": "2023-05-05T05:32:04.126376",
     "exception": false,
     "start_time": "2023-05-05T05:32:04.099472",
     "status": "completed"
    },
    "tags": []
   },
   "outputs": [
    {
     "data": {
      "text/html": [
       "<div>\n",
       "<style scoped>\n",
       "    .dataframe tbody tr th:only-of-type {\n",
       "        vertical-align: middle;\n",
       "    }\n",
       "\n",
       "    .dataframe tbody tr th {\n",
       "        vertical-align: top;\n",
       "    }\n",
       "\n",
       "    .dataframe thead th {\n",
       "        text-align: right;\n",
       "    }\n",
       "</style>\n",
       "<table border=\"1\" class=\"dataframe\">\n",
       "  <thead>\n",
       "    <tr style=\"text-align: right;\">\n",
       "      <th></th>\n",
       "      <th>ImageId</th>\n",
       "      <th>Image</th>\n",
       "    </tr>\n",
       "  </thead>\n",
       "  <tbody>\n",
       "    <tr>\n",
       "      <th>0</th>\n",
       "      <td>1</td>\n",
       "      <td>182 183 182 182 180 180 176 169 156 137 124 10...</td>\n",
       "    </tr>\n",
       "    <tr>\n",
       "      <th>1</th>\n",
       "      <td>2</td>\n",
       "      <td>76 87 81 72 65 59 64 76 69 42 31 38 49 58 58 4...</td>\n",
       "    </tr>\n",
       "    <tr>\n",
       "      <th>2</th>\n",
       "      <td>3</td>\n",
       "      <td>177 176 174 170 169 169 168 166 166 166 161 14...</td>\n",
       "    </tr>\n",
       "    <tr>\n",
       "      <th>3</th>\n",
       "      <td>4</td>\n",
       "      <td>176 174 174 175 174 174 176 176 175 171 165 15...</td>\n",
       "    </tr>\n",
       "    <tr>\n",
       "      <th>4</th>\n",
       "      <td>5</td>\n",
       "      <td>50 47 44 101 144 149 120 58 48 42 35 35 37 39 ...</td>\n",
       "    </tr>\n",
       "  </tbody>\n",
       "</table>\n",
       "</div>"
      ],
      "text/plain": [
       "   ImageId                                              Image\n",
       "0        1  182 183 182 182 180 180 176 169 156 137 124 10...\n",
       "1        2  76 87 81 72 65 59 64 76 69 42 31 38 49 58 58 4...\n",
       "2        3  177 176 174 170 169 169 168 166 166 166 161 14...\n",
       "3        4  176 174 174 175 174 174 176 176 175 171 165 15...\n",
       "4        5  50 47 44 101 144 149 120 58 48 42 35 35 37 39 ..."
      ]
     },
     "execution_count": 6,
     "metadata": {},
     "output_type": "execute_result"
    }
   ],
   "source": [
    "test_csv.head()"
   ]
  },
  {
   "cell_type": "code",
   "execution_count": 7,
   "id": "a6c5da05",
   "metadata": {
    "execution": {
     "iopub.execute_input": "2023-05-05T05:32:04.144795Z",
     "iopub.status.busy": "2023-05-05T05:32:04.144374Z",
     "iopub.status.idle": "2023-05-05T05:32:04.177703Z",
     "shell.execute_reply": "2023-05-05T05:32:04.176092Z"
    },
    "papermill": {
     "duration": 0.046297,
     "end_time": "2023-05-05T05:32:04.180555",
     "exception": false,
     "start_time": "2023-05-05T05:32:04.134258",
     "status": "completed"
    },
    "tags": []
   },
   "outputs": [
    {
     "data": {
      "text/html": [
       "<div>\n",
       "<style scoped>\n",
       "    .dataframe tbody tr th:only-of-type {\n",
       "        vertical-align: middle;\n",
       "    }\n",
       "\n",
       "    .dataframe tbody tr th {\n",
       "        vertical-align: top;\n",
       "    }\n",
       "\n",
       "    .dataframe thead th {\n",
       "        text-align: right;\n",
       "    }\n",
       "</style>\n",
       "<table border=\"1\" class=\"dataframe\">\n",
       "  <thead>\n",
       "    <tr style=\"text-align: right;\">\n",
       "      <th></th>\n",
       "      <th>left_eye_center_x</th>\n",
       "      <th>left_eye_center_y</th>\n",
       "      <th>right_eye_center_x</th>\n",
       "      <th>right_eye_center_y</th>\n",
       "      <th>left_eye_inner_corner_x</th>\n",
       "      <th>left_eye_inner_corner_y</th>\n",
       "      <th>left_eye_outer_corner_x</th>\n",
       "      <th>left_eye_outer_corner_y</th>\n",
       "      <th>right_eye_inner_corner_x</th>\n",
       "      <th>right_eye_inner_corner_y</th>\n",
       "      <th>...</th>\n",
       "      <th>nose_tip_y</th>\n",
       "      <th>mouth_left_corner_x</th>\n",
       "      <th>mouth_left_corner_y</th>\n",
       "      <th>mouth_right_corner_x</th>\n",
       "      <th>mouth_right_corner_y</th>\n",
       "      <th>mouth_center_top_lip_x</th>\n",
       "      <th>mouth_center_top_lip_y</th>\n",
       "      <th>mouth_center_bottom_lip_x</th>\n",
       "      <th>mouth_center_bottom_lip_y</th>\n",
       "      <th>Image</th>\n",
       "    </tr>\n",
       "  </thead>\n",
       "  <tbody>\n",
       "    <tr>\n",
       "      <th>0</th>\n",
       "      <td>66.033564</td>\n",
       "      <td>39.002274</td>\n",
       "      <td>30.227008</td>\n",
       "      <td>36.421678</td>\n",
       "      <td>59.582075</td>\n",
       "      <td>39.647423</td>\n",
       "      <td>73.130346</td>\n",
       "      <td>39.969997</td>\n",
       "      <td>36.356571</td>\n",
       "      <td>37.389402</td>\n",
       "      <td>...</td>\n",
       "      <td>57.066803</td>\n",
       "      <td>61.195308</td>\n",
       "      <td>79.970165</td>\n",
       "      <td>28.614496</td>\n",
       "      <td>77.388992</td>\n",
       "      <td>43.312602</td>\n",
       "      <td>72.935459</td>\n",
       "      <td>43.130707</td>\n",
       "      <td>84.485774</td>\n",
       "      <td>238 236 237 238 240 240 239 241 241 243 240 23...</td>\n",
       "    </tr>\n",
       "    <tr>\n",
       "      <th>1</th>\n",
       "      <td>64.332936</td>\n",
       "      <td>34.970077</td>\n",
       "      <td>29.949277</td>\n",
       "      <td>33.448715</td>\n",
       "      <td>58.856170</td>\n",
       "      <td>35.274349</td>\n",
       "      <td>70.722723</td>\n",
       "      <td>36.187166</td>\n",
       "      <td>36.034723</td>\n",
       "      <td>34.361532</td>\n",
       "      <td>...</td>\n",
       "      <td>55.660936</td>\n",
       "      <td>56.421447</td>\n",
       "      <td>76.352000</td>\n",
       "      <td>35.122383</td>\n",
       "      <td>76.047660</td>\n",
       "      <td>46.684596</td>\n",
       "      <td>70.266553</td>\n",
       "      <td>45.467915</td>\n",
       "      <td>85.480170</td>\n",
       "      <td>219 215 204 196 204 211 212 200 180 168 178 19...</td>\n",
       "    </tr>\n",
       "    <tr>\n",
       "      <th>2</th>\n",
       "      <td>65.057053</td>\n",
       "      <td>34.909642</td>\n",
       "      <td>30.903789</td>\n",
       "      <td>34.909642</td>\n",
       "      <td>59.412000</td>\n",
       "      <td>36.320968</td>\n",
       "      <td>70.984421</td>\n",
       "      <td>36.320968</td>\n",
       "      <td>37.678105</td>\n",
       "      <td>36.320968</td>\n",
       "      <td>...</td>\n",
       "      <td>53.538947</td>\n",
       "      <td>60.822947</td>\n",
       "      <td>73.014316</td>\n",
       "      <td>33.726316</td>\n",
       "      <td>72.732000</td>\n",
       "      <td>47.274947</td>\n",
       "      <td>70.191789</td>\n",
       "      <td>47.274947</td>\n",
       "      <td>78.659368</td>\n",
       "      <td>144 142 159 180 188 188 184 180 167 132 84 59 ...</td>\n",
       "    </tr>\n",
       "    <tr>\n",
       "      <th>3</th>\n",
       "      <td>65.225739</td>\n",
       "      <td>37.261774</td>\n",
       "      <td>32.023096</td>\n",
       "      <td>37.261774</td>\n",
       "      <td>60.003339</td>\n",
       "      <td>39.127179</td>\n",
       "      <td>72.314713</td>\n",
       "      <td>38.380967</td>\n",
       "      <td>37.618643</td>\n",
       "      <td>38.754115</td>\n",
       "      <td>...</td>\n",
       "      <td>54.166539</td>\n",
       "      <td>65.598887</td>\n",
       "      <td>72.703722</td>\n",
       "      <td>37.245496</td>\n",
       "      <td>74.195478</td>\n",
       "      <td>50.303165</td>\n",
       "      <td>70.091687</td>\n",
       "      <td>51.561183</td>\n",
       "      <td>78.268383</td>\n",
       "      <td>193 192 193 194 194 194 193 192 168 111 50 12 ...</td>\n",
       "    </tr>\n",
       "    <tr>\n",
       "      <th>4</th>\n",
       "      <td>66.725301</td>\n",
       "      <td>39.621261</td>\n",
       "      <td>32.244810</td>\n",
       "      <td>38.042032</td>\n",
       "      <td>58.565890</td>\n",
       "      <td>39.621261</td>\n",
       "      <td>72.515926</td>\n",
       "      <td>39.884466</td>\n",
       "      <td>36.982380</td>\n",
       "      <td>39.094852</td>\n",
       "      <td>...</td>\n",
       "      <td>64.889521</td>\n",
       "      <td>60.671411</td>\n",
       "      <td>77.523239</td>\n",
       "      <td>31.191755</td>\n",
       "      <td>76.997301</td>\n",
       "      <td>44.962748</td>\n",
       "      <td>73.707387</td>\n",
       "      <td>44.227141</td>\n",
       "      <td>86.871166</td>\n",
       "      <td>147 148 160 196 215 214 216 217 219 220 206 18...</td>\n",
       "    </tr>\n",
       "  </tbody>\n",
       "</table>\n",
       "<p>5 rows × 31 columns</p>\n",
       "</div>"
      ],
      "text/plain": [
       "   left_eye_center_x  left_eye_center_y  right_eye_center_x  \\\n",
       "0          66.033564          39.002274           30.227008   \n",
       "1          64.332936          34.970077           29.949277   \n",
       "2          65.057053          34.909642           30.903789   \n",
       "3          65.225739          37.261774           32.023096   \n",
       "4          66.725301          39.621261           32.244810   \n",
       "\n",
       "   right_eye_center_y  left_eye_inner_corner_x  left_eye_inner_corner_y  \\\n",
       "0           36.421678                59.582075                39.647423   \n",
       "1           33.448715                58.856170                35.274349   \n",
       "2           34.909642                59.412000                36.320968   \n",
       "3           37.261774                60.003339                39.127179   \n",
       "4           38.042032                58.565890                39.621261   \n",
       "\n",
       "   left_eye_outer_corner_x  left_eye_outer_corner_y  right_eye_inner_corner_x  \\\n",
       "0                73.130346                39.969997                 36.356571   \n",
       "1                70.722723                36.187166                 36.034723   \n",
       "2                70.984421                36.320968                 37.678105   \n",
       "3                72.314713                38.380967                 37.618643   \n",
       "4                72.515926                39.884466                 36.982380   \n",
       "\n",
       "   right_eye_inner_corner_y  ...  nose_tip_y  mouth_left_corner_x  \\\n",
       "0                 37.389402  ...   57.066803            61.195308   \n",
       "1                 34.361532  ...   55.660936            56.421447   \n",
       "2                 36.320968  ...   53.538947            60.822947   \n",
       "3                 38.754115  ...   54.166539            65.598887   \n",
       "4                 39.094852  ...   64.889521            60.671411   \n",
       "\n",
       "   mouth_left_corner_y  mouth_right_corner_x  mouth_right_corner_y  \\\n",
       "0            79.970165             28.614496             77.388992   \n",
       "1            76.352000             35.122383             76.047660   \n",
       "2            73.014316             33.726316             72.732000   \n",
       "3            72.703722             37.245496             74.195478   \n",
       "4            77.523239             31.191755             76.997301   \n",
       "\n",
       "   mouth_center_top_lip_x  mouth_center_top_lip_y  mouth_center_bottom_lip_x  \\\n",
       "0               43.312602               72.935459                  43.130707   \n",
       "1               46.684596               70.266553                  45.467915   \n",
       "2               47.274947               70.191789                  47.274947   \n",
       "3               50.303165               70.091687                  51.561183   \n",
       "4               44.962748               73.707387                  44.227141   \n",
       "\n",
       "   mouth_center_bottom_lip_y  \\\n",
       "0                  84.485774   \n",
       "1                  85.480170   \n",
       "2                  78.659368   \n",
       "3                  78.268383   \n",
       "4                  86.871166   \n",
       "\n",
       "                                               Image  \n",
       "0  238 236 237 238 240 240 239 241 241 243 240 23...  \n",
       "1  219 215 204 196 204 211 212 200 180 168 178 19...  \n",
       "2  144 142 159 180 188 188 184 180 167 132 84 59 ...  \n",
       "3  193 192 193 194 194 194 193 192 168 111 50 12 ...  \n",
       "4  147 148 160 196 215 214 216 217 219 220 206 18...  \n",
       "\n",
       "[5 rows x 31 columns]"
      ]
     },
     "execution_count": 7,
     "metadata": {},
     "output_type": "execute_result"
    }
   ],
   "source": [
    "train_csv.head()"
   ]
  },
  {
   "cell_type": "code",
   "execution_count": 8,
   "id": "583a9012",
   "metadata": {
    "execution": {
     "iopub.execute_input": "2023-05-05T05:32:04.199574Z",
     "iopub.status.busy": "2023-05-05T05:32:04.198787Z",
     "iopub.status.idle": "2023-05-05T05:32:04.212563Z",
     "shell.execute_reply": "2023-05-05T05:32:04.211139Z"
    },
    "papermill": {
     "duration": 0.026338,
     "end_time": "2023-05-05T05:32:04.215469",
     "exception": false,
     "start_time": "2023-05-05T05:32:04.189131",
     "status": "completed"
    },
    "tags": []
   },
   "outputs": [
    {
     "data": {
      "text/plain": [
       "left_eye_center_x              10\n",
       "left_eye_center_y              10\n",
       "right_eye_center_x             13\n",
       "right_eye_center_y             13\n",
       "left_eye_inner_corner_x      4778\n",
       "left_eye_inner_corner_y      4778\n",
       "left_eye_outer_corner_x      4782\n",
       "left_eye_outer_corner_y      4782\n",
       "right_eye_inner_corner_x     4781\n",
       "right_eye_inner_corner_y     4781\n",
       "right_eye_outer_corner_x     4781\n",
       "right_eye_outer_corner_y     4781\n",
       "left_eyebrow_inner_end_x     4779\n",
       "left_eyebrow_inner_end_y     4779\n",
       "left_eyebrow_outer_end_x     4824\n",
       "left_eyebrow_outer_end_y     4824\n",
       "right_eyebrow_inner_end_x    4779\n",
       "right_eyebrow_inner_end_y    4779\n",
       "right_eyebrow_outer_end_x    4813\n",
       "right_eyebrow_outer_end_y    4813\n",
       "nose_tip_x                      0\n",
       "nose_tip_y                      0\n",
       "mouth_left_corner_x          4780\n",
       "mouth_left_corner_y          4780\n",
       "mouth_right_corner_x         4779\n",
       "mouth_right_corner_y         4779\n",
       "mouth_center_top_lip_x       4774\n",
       "mouth_center_top_lip_y       4774\n",
       "mouth_center_bottom_lip_x      33\n",
       "mouth_center_bottom_lip_y      33\n",
       "Image                           0\n",
       "dtype: int64"
      ]
     },
     "execution_count": 8,
     "metadata": {},
     "output_type": "execute_result"
    }
   ],
   "source": [
    "# identify if there are null values in training dataset\n",
    "\n",
    "train_csv.isnull().sum()"
   ]
  },
  {
   "cell_type": "code",
   "execution_count": 9,
   "id": "40c84a5f",
   "metadata": {
    "execution": {
     "iopub.execute_input": "2023-05-05T05:32:04.234621Z",
     "iopub.status.busy": "2023-05-05T05:32:04.234205Z",
     "iopub.status.idle": "2023-05-05T05:32:04.286839Z",
     "shell.execute_reply": "2023-05-05T05:32:04.285574Z"
    },
    "papermill": {
     "duration": 0.065382,
     "end_time": "2023-05-05T05:32:04.289682",
     "exception": false,
     "start_time": "2023-05-05T05:32:04.224300",
     "status": "completed"
    },
    "tags": []
   },
   "outputs": [
    {
     "data": {
      "text/plain": [
       "left_eye_center_x            0\n",
       "left_eye_center_y            0\n",
       "right_eye_center_x           0\n",
       "right_eye_center_y           0\n",
       "left_eye_inner_corner_x      0\n",
       "left_eye_inner_corner_y      0\n",
       "left_eye_outer_corner_x      0\n",
       "left_eye_outer_corner_y      0\n",
       "right_eye_inner_corner_x     0\n",
       "right_eye_inner_corner_y     0\n",
       "right_eye_outer_corner_x     0\n",
       "right_eye_outer_corner_y     0\n",
       "left_eyebrow_inner_end_x     0\n",
       "left_eyebrow_inner_end_y     0\n",
       "left_eyebrow_outer_end_x     0\n",
       "left_eyebrow_outer_end_y     0\n",
       "right_eyebrow_inner_end_x    0\n",
       "right_eyebrow_inner_end_y    0\n",
       "right_eyebrow_outer_end_x    0\n",
       "right_eyebrow_outer_end_y    0\n",
       "nose_tip_x                   0\n",
       "nose_tip_y                   0\n",
       "mouth_left_corner_x          0\n",
       "mouth_left_corner_y          0\n",
       "mouth_right_corner_x         0\n",
       "mouth_right_corner_y         0\n",
       "mouth_center_top_lip_x       0\n",
       "mouth_center_top_lip_y       0\n",
       "mouth_center_bottom_lip_x    0\n",
       "mouth_center_bottom_lip_y    0\n",
       "Image                        0\n",
       "dtype: int64"
      ]
     },
     "execution_count": 9,
     "metadata": {},
     "output_type": "execute_result"
    }
   ],
   "source": [
    "# Fill the NA value with interpolation\n",
    "train_csv = train_csv.interpolate()\n",
    "train_csv.isnull().sum()"
   ]
  },
  {
   "cell_type": "code",
   "execution_count": 10,
   "id": "57e9af7f",
   "metadata": {
    "execution": {
     "iopub.execute_input": "2023-05-05T05:32:04.310155Z",
     "iopub.status.busy": "2023-05-05T05:32:04.309687Z",
     "iopub.status.idle": "2023-05-05T05:32:04.320590Z",
     "shell.execute_reply": "2023-05-05T05:32:04.319221Z"
    },
    "papermill": {
     "duration": 0.024631,
     "end_time": "2023-05-05T05:32:04.323363",
     "exception": false,
     "start_time": "2023-05-05T05:32:04.298732",
     "status": "completed"
    },
    "tags": []
   },
   "outputs": [
    {
     "data": {
      "text/plain": [
       "left_eye_center_x            float64\n",
       "left_eye_center_y            float64\n",
       "right_eye_center_x           float64\n",
       "right_eye_center_y           float64\n",
       "left_eye_inner_corner_x      float64\n",
       "left_eye_inner_corner_y      float64\n",
       "left_eye_outer_corner_x      float64\n",
       "left_eye_outer_corner_y      float64\n",
       "right_eye_inner_corner_x     float64\n",
       "right_eye_inner_corner_y     float64\n",
       "right_eye_outer_corner_x     float64\n",
       "right_eye_outer_corner_y     float64\n",
       "left_eyebrow_inner_end_x     float64\n",
       "left_eyebrow_inner_end_y     float64\n",
       "left_eyebrow_outer_end_x     float64\n",
       "left_eyebrow_outer_end_y     float64\n",
       "right_eyebrow_inner_end_x    float64\n",
       "right_eyebrow_inner_end_y    float64\n",
       "right_eyebrow_outer_end_x    float64\n",
       "right_eyebrow_outer_end_y    float64\n",
       "nose_tip_x                   float64\n",
       "nose_tip_y                   float64\n",
       "mouth_left_corner_x          float64\n",
       "mouth_left_corner_y          float64\n",
       "mouth_right_corner_x         float64\n",
       "mouth_right_corner_y         float64\n",
       "mouth_center_top_lip_x       float64\n",
       "mouth_center_top_lip_y       float64\n",
       "mouth_center_bottom_lip_x    float64\n",
       "mouth_center_bottom_lip_y    float64\n",
       "Image                         object\n",
       "dtype: object"
      ]
     },
     "execution_count": 10,
     "metadata": {},
     "output_type": "execute_result"
    }
   ],
   "source": [
    "train_csv.dtypes"
   ]
  },
  {
   "cell_type": "code",
   "execution_count": 11,
   "id": "62685332",
   "metadata": {
    "execution": {
     "iopub.execute_input": "2023-05-05T05:32:04.342733Z",
     "iopub.status.busy": "2023-05-05T05:32:04.342297Z",
     "iopub.status.idle": "2023-05-05T05:32:04.349693Z",
     "shell.execute_reply": "2023-05-05T05:32:04.348400Z"
    },
    "papermill": {
     "duration": 0.020722,
     "end_time": "2023-05-05T05:32:04.352700",
     "exception": false,
     "start_time": "2023-05-05T05:32:04.331978",
     "status": "completed"
    },
    "tags": []
   },
   "outputs": [],
   "source": [
    "# the 'Image' column contains values for pixels\n",
    "# what we need to do is convert data type from strings to float\n",
    "# and reshape the array to (96,96,1)\n",
    "# then we can get images for training - x_train\n",
    "\n",
    "def image_preprocess(data): \n",
    "    images = []\n",
    "    for index, row in data.iterrows():\n",
    "        image_str = row['Image']\n",
    "        image_arr = np.array(image_str.split(' '), dtype = float)\n",
    "        image_arr = np.array(image_arr.reshape((96,96,1)))\n",
    "        images.append(image_arr)\n",
    "    return images"
   ]
  },
  {
   "cell_type": "code",
   "execution_count": 12,
   "id": "c96f9c6a",
   "metadata": {
    "execution": {
     "iopub.execute_input": "2023-05-05T05:32:04.372603Z",
     "iopub.status.busy": "2023-05-05T05:32:04.371839Z",
     "iopub.status.idle": "2023-05-05T05:32:04.379051Z",
     "shell.execute_reply": "2023-05-05T05:32:04.377658Z"
    },
    "papermill": {
     "duration": 0.020608,
     "end_time": "2023-05-05T05:32:04.382139",
     "exception": false,
     "start_time": "2023-05-05T05:32:04.361531",
     "status": "completed"
    },
    "tags": []
   },
   "outputs": [],
   "source": [
    "# to get labels for training, we need to extract the keypoints\n",
    "\n",
    "def keypoints(data):\n",
    "    keypoint = data.drop('Image',axis = 1)\n",
    "    keypoint_features = []\n",
    "    for index, keypoints in keypoint.iterrows():\n",
    "        keypoint_features.append(keypoints)\n",
    "    keypoint_features = np.array(keypoint_features, dtype = 'float')\n",
    "    return keypoint_features"
   ]
  },
  {
   "cell_type": "code",
   "execution_count": 13,
   "id": "c2bac35e",
   "metadata": {
    "execution": {
     "iopub.execute_input": "2023-05-05T05:32:04.401634Z",
     "iopub.status.busy": "2023-05-05T05:32:04.401187Z",
     "iopub.status.idle": "2023-05-05T05:32:21.281494Z",
     "shell.execute_reply": "2023-05-05T05:32:21.280143Z"
    },
    "papermill": {
     "duration": 16.89373,
     "end_time": "2023-05-05T05:32:21.284536",
     "exception": false,
     "start_time": "2023-05-05T05:32:04.390806",
     "status": "completed"
    },
    "tags": []
   },
   "outputs": [],
   "source": [
    "x_train = np.array(image_preprocess(train_csv))\n",
    "y_train = np.array(keypoints(train_csv))\n",
    "x_test = np.array(image_preprocess(test_csv))"
   ]
  },
  {
   "cell_type": "code",
   "execution_count": 14,
   "id": "03f3b7eb",
   "metadata": {
    "execution": {
     "iopub.execute_input": "2023-05-05T05:32:21.303679Z",
     "iopub.status.busy": "2023-05-05T05:32:21.303271Z",
     "iopub.status.idle": "2023-05-05T05:32:21.311402Z",
     "shell.execute_reply": "2023-05-05T05:32:21.310290Z"
    },
    "papermill": {
     "duration": 0.021435,
     "end_time": "2023-05-05T05:32:21.314586",
     "exception": false,
     "start_time": "2023-05-05T05:32:21.293151",
     "status": "completed"
    },
    "tags": []
   },
   "outputs": [
    {
     "data": {
      "text/plain": [
       "((7049, 96, 96, 1), (7049, 30), (1783, 96, 96, 1))"
      ]
     },
     "execution_count": 14,
     "metadata": {},
     "output_type": "execute_result"
    }
   ],
   "source": [
    "x_train.shape, y_train.shape, x_test.shape"
   ]
  },
  {
   "cell_type": "code",
   "execution_count": 15,
   "id": "b69504b7",
   "metadata": {
    "execution": {
     "iopub.execute_input": "2023-05-05T05:32:21.333991Z",
     "iopub.status.busy": "2023-05-05T05:32:21.333556Z",
     "iopub.status.idle": "2023-05-05T05:32:21.747537Z",
     "shell.execute_reply": "2023-05-05T05:32:21.746428Z"
    },
    "papermill": {
     "duration": 0.426723,
     "end_time": "2023-05-05T05:32:21.750141",
     "exception": false,
     "start_time": "2023-05-05T05:32:21.323418",
     "status": "completed"
    },
    "tags": []
   },
   "outputs": [
    {
     "data": {
      "text/plain": [
       "<function matplotlib.pyplot.show(close=None, block=None)>"
      ]
     },
     "execution_count": 15,
     "metadata": {},
     "output_type": "execute_result"
    },
    {
     "data": {
      "image/png": "[encoded data removed]",
      "text/plain": [
       "<Figure size 640x480 with 2 Axes>"
      ]
     },
     "metadata": {},
     "output_type": "display_data"
    }
   ],
   "source": [
    "# visualize train and test images\n",
    "\n",
    "fig, axs = plt.subplots(nrows=1, ncols=2)\n",
    "axs[0].imshow(x_train[0], cmap = 'gray')\n",
    "axs[1].imshow(x_test[0], cmap = 'gray')\n",
    "plt.show"
   ]
  },
  {
   "cell_type": "markdown",
   "id": "f5951493",
   "metadata": {
    "papermill": {
     "duration": 0.009933,
     "end_time": "2023-05-05T05:32:21.770639",
     "exception": false,
     "start_time": "2023-05-05T05:32:21.760706",
     "status": "completed"
    },
    "tags": []
   },
   "source": [
    "# Build the Model "
   ]
  },
  {
   "cell_type": "code",
   "execution_count": 16,
   "id": "67ecd7bf",
   "metadata": {
    "execution": {
     "iopub.execute_input": "2023-05-05T05:32:21.793542Z",
     "iopub.status.busy": "2023-05-05T05:32:21.792896Z",
     "iopub.status.idle": "2023-05-05T05:32:21.798549Z",
     "shell.execute_reply": "2023-05-05T05:32:21.797517Z"
    },
    "papermill": {
     "duration": 0.020288,
     "end_time": "2023-05-05T05:32:21.801225",
     "exception": false,
     "start_time": "2023-05-05T05:32:21.780937",
     "status": "completed"
    },
    "tags": []
   },
   "outputs": [],
   "source": [
    "from keras.layers import Conv2D, MaxPooling2D, Flatten, Dense, Dropout, BatchNormalization\n",
    "from keras.models import Sequential"
   ]
  },
  {
   "cell_type": "code",
   "execution_count": 17,
   "id": "bd634bc3",
   "metadata": {
    "execution": {
     "iopub.execute_input": "2023-05-05T05:32:21.825159Z",
     "iopub.status.busy": "2023-05-05T05:32:21.824293Z",
     "iopub.status.idle": "2023-05-05T05:32:22.298137Z",
     "shell.execute_reply": "2023-05-05T05:32:22.296408Z"
    },
    "papermill": {
     "duration": 0.490301,
     "end_time": "2023-05-05T05:32:22.302046",
     "exception": false,
     "start_time": "2023-05-05T05:32:21.811745",
     "status": "completed"
    },
    "tags": []
   },
   "outputs": [
    {
     "name": "stdout",
     "output_type": "stream",
     "text": [
      "Model: \"sequential\"\n",
      "_________________________________________________________________\n",
      " Layer (type)                Output Shape              Param #   \n",
      "=================================================================\n",
      " conv2d (Conv2D)             (None, 96, 96, 32)        832       \n",
      "                                                                 \n",
      " batch_normalization (BatchN  (None, 96, 96, 32)       128       \n",
      " ormalization)                                                   \n",
      "                                                                 \n",
      " max_pooling2d (MaxPooling2D  (None, 48, 48, 32)       0         \n",
      " )                                                               \n",
      "                                                                 \n",
      " conv2d_1 (Conv2D)           (None, 48, 48, 64)        51264     \n",
      "                                                                 \n",
      " dropout (Dropout)           (None, 48, 48, 64)        0         \n",
      "                                                                 \n",
      " batch_normalization_1 (Batc  (None, 48, 48, 64)       256       \n",
      " hNormalization)                                                 \n",
      "                                                                 \n",
      " max_pooling2d_1 (MaxPooling  (None, 24, 24, 64)       0         \n",
      " 2D)                                                             \n",
      "                                                                 \n",
      " conv2d_2 (Conv2D)           (None, 24, 24, 128)       73856     \n",
      "                                                                 \n",
      " batch_normalization_2 (Batc  (None, 24, 24, 128)      512       \n",
      " hNormalization)                                                 \n",
      "                                                                 \n",
      " max_pooling2d_2 (MaxPooling  (None, 12, 12, 128)      0         \n",
      " 2D)                                                             \n",
      "                                                                 \n",
      " conv2d_3 (Conv2D)           (None, 12, 12, 256)       295168    \n",
      "                                                                 \n",
      " batch_normalization_3 (Batc  (None, 12, 12, 256)      1024      \n",
      " hNormalization)                                                 \n",
      "                                                                 \n",
      " max_pooling2d_3 (MaxPooling  (None, 6, 6, 256)        0         \n",
      " 2D)                                                             \n",
      "                                                                 \n",
      " dropout_1 (Dropout)         (None, 6, 6, 256)         0         \n",
      "                                                                 \n",
      " conv2d_4 (Conv2D)           (None, 6, 6, 256)         590080    \n",
      "                                                                 \n",
      " batch_normalization_4 (Batc  (None, 6, 6, 256)        1024      \n",
      " hNormalization)                                                 \n",
      "                                                                 \n",
      " max_pooling2d_4 (MaxPooling  (None, 3, 3, 256)        0         \n",
      " 2D)                                                             \n",
      "                                                                 \n",
      " flatten (Flatten)           (None, 2304)              0         \n",
      "                                                                 \n",
      " dropout_2 (Dropout)         (None, 2304)              0         \n",
      "                                                                 \n",
      " dense (Dense)               (None, 30)                69150     \n",
      "                                                                 \n",
      "=================================================================\n",
      "Total params: 1,083,294\n",
      "Trainable params: 1,081,822\n",
      "Non-trainable params: 1,472\n",
      "_________________________________________________________________\n"
     ]
    }
   ],
   "source": [
    "model = Sequential([Conv2D(32,(5,5), activation = 'relu', padding = 'same', input_shape = (96,96,1)),\n",
    "                    BatchNormalization(),\n",
    "                    MaxPooling2D(2,2),\n",
    "                    Conv2D(64,(5,5), activation = 'relu', padding = 'same'),\n",
    "                    Dropout(0.1),\n",
    "                    BatchNormalization(),\n",
    "                    MaxPooling2D(2,2), \n",
    "                    Conv2D(128,(3,3), activation = 'relu', padding = 'same'),\n",
    "                    BatchNormalization(),\n",
    "                    MaxPooling2D(2,2), \n",
    "                    Conv2D(256,(3,3), activation = 'relu', padding = 'same'),\n",
    "                    BatchNormalization(),\n",
    "                    MaxPooling2D(2,2), \n",
    "                    Dropout(0.1),\n",
    "                    Conv2D(256,(3,3), activation = 'relu', padding = 'same'),\n",
    "                    BatchNormalization(),\n",
    "                    MaxPooling2D(2,2),\n",
    "                    Flatten(),\n",
    "                    Dropout(0.2),\n",
    "                    Dense(30)\n",
    "                   ])\n",
    "\n",
    "model.summary()"
   ]
  },
  {
   "cell_type": "markdown",
   "id": "16378d33",
   "metadata": {
    "papermill": {
     "duration": 0.013788,
     "end_time": "2023-05-05T05:32:22.330482",
     "exception": false,
     "start_time": "2023-05-05T05:32:22.316694",
     "status": "completed"
    },
    "tags": []
   },
   "source": [
    "# Compile the Model"
   ]
  },
  {
   "cell_type": "code",
   "execution_count": 18,
   "id": "ea4dbd2c",
   "metadata": {
    "execution": {
     "iopub.execute_input": "2023-05-05T05:32:22.360989Z",
     "iopub.status.busy": "2023-05-05T05:32:22.360557Z",
     "iopub.status.idle": "2023-05-05T05:32:22.379941Z",
     "shell.execute_reply": "2023-05-05T05:32:22.378535Z"
    },
    "papermill": {
     "duration": 0.038348,
     "end_time": "2023-05-05T05:32:22.383318",
     "exception": false,
     "start_time": "2023-05-05T05:32:22.344970",
     "status": "completed"
    },
    "tags": []
   },
   "outputs": [],
   "source": [
    "from keras.optimizers import Adam\n",
    "from keras.losses import mean_squared_error\n",
    "\n",
    "model.compile(optimizer = Adam(learning_rate = 0.001),\n",
    "                        loss = mean_squared_error, \n",
    "                        metrics = ['accuracy'])"
   ]
  },
  {
   "cell_type": "markdown",
   "id": "4ceb794e",
   "metadata": {
    "papermill": {
     "duration": 0.013848,
     "end_time": "2023-05-05T05:32:22.411601",
     "exception": false,
     "start_time": "2023-05-05T05:32:22.397753",
     "status": "completed"
    },
    "tags": []
   },
   "source": [
    "# Train the Model"
   ]
  },
  {
   "cell_type": "code",
   "execution_count": 19,
   "id": "47a22071",
   "metadata": {
    "execution": {
     "iopub.execute_input": "2023-05-05T05:32:22.443610Z",
     "iopub.status.busy": "2023-05-05T05:32:22.443180Z",
     "iopub.status.idle": "2023-05-05T06:55:46.105228Z",
     "shell.execute_reply": "2023-05-05T06:55:46.096187Z"
    },
    "papermill": {
     "duration": 5003.682132,
     "end_time": "2023-05-05T06:55:46.108873",
     "exception": false,
     "start_time": "2023-05-05T05:32:22.426741",
     "status": "completed"
    },
    "tags": []
   },
   "outputs": [
    {
     "name": "stdout",
     "output_type": "stream",
     "text": [
      "Epoch 1/30\n",
      "89/89 [==============================] - 168s 2s/step - loss: 190.8219 - accuracy: 0.5210 - val_loss: 69.2067 - val_accuracy: 0.6660\n",
      "Epoch 2/30\n",
      "89/89 [==============================] - 166s 2s/step - loss: 12.1618 - accuracy: 0.6015 - val_loss: 29.8000 - val_accuracy: 0.6759\n",
      "Epoch 3/30\n",
      "89/89 [==============================] - 165s 2s/step - loss: 10.3744 - accuracy: 0.6680 - val_loss: 36.8811 - val_accuracy: 0.6993\n",
      "Epoch 4/30\n",
      "89/89 [==============================] - 166s 2s/step - loss: 9.2787 - accuracy: 0.7134 - val_loss: 49.4196 - val_accuracy: 0.7277\n",
      "Epoch 5/30\n",
      "89/89 [==============================] - 165s 2s/step - loss: 8.7639 - accuracy: 0.7239 - val_loss: 6.9039 - val_accuracy: 0.7128\n",
      "Epoch 6/30\n",
      "89/89 [==============================] - 165s 2s/step - loss: 7.7383 - accuracy: 0.7422 - val_loss: 22.1607 - val_accuracy: 0.7319\n",
      "Epoch 7/30\n",
      "89/89 [==============================] - 165s 2s/step - loss: 7.1707 - accuracy: 0.7553 - val_loss: 9.1864 - val_accuracy: 0.7574\n",
      "Epoch 8/30\n",
      "89/89 [==============================] - 165s 2s/step - loss: 6.7667 - accuracy: 0.7599 - val_loss: 14.0010 - val_accuracy: 0.7582\n",
      "Epoch 9/30\n",
      "89/89 [==============================] - 165s 2s/step - loss: 6.4568 - accuracy: 0.7617 - val_loss: 6.8274 - val_accuracy: 0.7560\n",
      "Epoch 10/30\n",
      "89/89 [==============================] - 166s 2s/step - loss: 6.2266 - accuracy: 0.7650 - val_loss: 3.5119 - val_accuracy: 0.7773\n",
      "Epoch 11/30\n",
      "89/89 [==============================] - 166s 2s/step - loss: 5.8284 - accuracy: 0.7725 - val_loss: 6.2250 - val_accuracy: 0.7624\n",
      "Epoch 12/30\n",
      "89/89 [==============================] - 166s 2s/step - loss: 5.7135 - accuracy: 0.7760 - val_loss: 5.9333 - val_accuracy: 0.7525\n",
      "Epoch 13/30\n",
      "89/89 [==============================] - 165s 2s/step - loss: 5.4925 - accuracy: 0.7776 - val_loss: 6.8200 - val_accuracy: 0.7674\n",
      "Epoch 14/30\n",
      "89/89 [==============================] - 165s 2s/step - loss: 5.3922 - accuracy: 0.7787 - val_loss: 5.2456 - val_accuracy: 0.7418\n",
      "Epoch 15/30\n",
      "89/89 [==============================] - 165s 2s/step - loss: 5.1424 - accuracy: 0.7918 - val_loss: 8.6931 - val_accuracy: 0.7610\n",
      "Epoch 16/30\n",
      "89/89 [==============================] - 165s 2s/step - loss: 4.9411 - accuracy: 0.7847 - val_loss: 4.3664 - val_accuracy: 0.7759\n",
      "Epoch 17/30\n",
      "89/89 [==============================] - 165s 2s/step - loss: 4.9722 - accuracy: 0.7925 - val_loss: 5.4122 - val_accuracy: 0.7730\n",
      "Epoch 18/30\n",
      "89/89 [==============================] - 165s 2s/step - loss: 4.7721 - accuracy: 0.8019 - val_loss: 3.8345 - val_accuracy: 0.7809\n",
      "Epoch 19/30\n",
      "89/89 [==============================] - 165s 2s/step - loss: 4.4165 - accuracy: 0.8014 - val_loss: 4.4407 - val_accuracy: 0.7780\n",
      "Epoch 20/30\n",
      "89/89 [==============================] - 165s 2s/step - loss: 4.2457 - accuracy: 0.8058 - val_loss: 4.3005 - val_accuracy: 0.7887\n",
      "Epoch 21/30\n",
      "89/89 [==============================] - 165s 2s/step - loss: 4.0526 - accuracy: 0.8042 - val_loss: 5.3930 - val_accuracy: 0.7702\n",
      "Epoch 22/30\n",
      "89/89 [==============================] - 165s 2s/step - loss: 3.9430 - accuracy: 0.8071 - val_loss: 9.4376 - val_accuracy: 0.7411\n",
      "Epoch 23/30\n",
      "89/89 [==============================] - 165s 2s/step - loss: 4.0003 - accuracy: 0.8092 - val_loss: 3.1606 - val_accuracy: 0.6993\n",
      "Epoch 24/30\n",
      "89/89 [==============================] - 166s 2s/step - loss: 3.7275 - accuracy: 0.8214 - val_loss: 2.9378 - val_accuracy: 0.7560\n",
      "Epoch 25/30\n",
      "89/89 [==============================] - 164s 2s/step - loss: 3.6592 - accuracy: 0.8175 - val_loss: 3.1745 - val_accuracy: 0.7468\n",
      "Epoch 26/30\n",
      "89/89 [==============================] - 165s 2s/step - loss: 3.5537 - accuracy: 0.8275 - val_loss: 3.1099 - val_accuracy: 0.7511\n",
      "Epoch 27/30\n",
      "89/89 [==============================] - 164s 2s/step - loss: 3.4896 - accuracy: 0.8292 - val_loss: 6.8017 - val_accuracy: 0.7773\n",
      "Epoch 28/30\n",
      "89/89 [==============================] - 165s 2s/step - loss: 3.4915 - accuracy: 0.8260 - val_loss: 3.0646 - val_accuracy: 0.7844\n",
      "Epoch 29/30\n",
      "89/89 [==============================] - 165s 2s/step - loss: 3.2968 - accuracy: 0.8292 - val_loss: 4.7787 - val_accuracy: 0.7631\n",
      "Epoch 30/30\n",
      "89/89 [==============================] - 165s 2s/step - loss: 3.1793 - accuracy: 0.8303 - val_loss: 5.1073 - val_accuracy: 0.7553\n"
     ]
    }
   ],
   "source": [
    "history = model.fit(x_train, y_train,\n",
    "          epochs = 30, \n",
    "          batch_size = 64,\n",
    "          validation_split = 0.2)"
   ]
  },
  {
   "cell_type": "code",
   "execution_count": 20,
   "id": "31515711",
   "metadata": {
    "execution": {
     "iopub.execute_input": "2023-05-05T06:55:46.491888Z",
     "iopub.status.busy": "2023-05-05T06:55:46.491131Z",
     "iopub.status.idle": "2023-05-05T06:55:47.229355Z",
     "shell.execute_reply": "2023-05-05T06:55:47.228010Z"
    },
    "papermill": {
     "duration": 0.930548,
     "end_time": "2023-05-05T06:55:47.232303",
     "exception": false,
     "start_time": "2023-05-05T06:55:46.301755",
     "status": "completed"
    },
    "tags": []
   },
   "outputs": [
    {
     "data": {
      "image/png": "[encoded data removed]",
      "text/plain": [
       "<Figure size 640x480 with 1 Axes>"
      ]
     },
     "metadata": {},
     "output_type": "display_data"
    },
    {
     "data": {
      "image/png": "[encoded data removed]",
      "text/plain": [
       "<Figure size 640x480 with 1 Axes>"
      ]
     },
     "metadata": {},
     "output_type": "display_data"
    },
    {
     "data": {
      "image/png": "[encoded data removed]",
      "text/plain": [
       "<Figure size 640x480 with 1 Axes>"
      ]
     },
     "metadata": {},
     "output_type": "display_data"
    }
   ],
   "source": [
    "plt.plot(history.history['loss'])\n",
    "plt.plot(history.history['val_loss'])\n",
    "plt.title('loss vs val_loss')\n",
    "plt.legend(['train', 'validation'])\n",
    "plt.show()\n",
    "\n",
    "plt.plot(history.history['loss'][3:])\n",
    "plt.plot(history.history['val_loss'][3:])\n",
    "plt.title('loss vs val_loss after 3 epochs')\n",
    "plt.legend(['train', 'validation'])\n",
    "plt.show()\n",
    "\n",
    "plt.plot(history.history['accuracy'])\n",
    "plt.plot(history.history['val_accuracy'])\n",
    "plt.title('accuracy vs val_accuracy')\n",
    "plt.legend(['train', 'validation'])\n",
    "plt.show()"
   ]
  },
  {
   "cell_type": "markdown",
   "id": "0bd0ac71",
   "metadata": {
    "papermill": {
     "duration": 0.187582,
     "end_time": "2023-05-05T06:55:47.611778",
     "exception": false,
     "start_time": "2023-05-05T06:55:47.424196",
     "status": "completed"
    },
    "tags": []
   },
   "source": [
    "Training loss and validation loss are decreasing while training accuracy and validation accuracy are increasing - signs of good fit. "
   ]
  },
  {
   "cell_type": "markdown",
   "id": "5274ea1b",
   "metadata": {
    "papermill": {
     "duration": 0.297991,
     "end_time": "2023-05-05T06:55:48.099809",
     "exception": false,
     "start_time": "2023-05-05T06:55:47.801818",
     "status": "completed"
    },
    "tags": []
   },
   "source": [
    "# Predictions"
   ]
  },
  {
   "cell_type": "code",
   "execution_count": 21,
   "id": "4e274e3f",
   "metadata": {
    "execution": {
     "iopub.execute_input": "2023-05-05T06:55:48.522345Z",
     "iopub.status.busy": "2023-05-05T06:55:48.521905Z",
     "iopub.status.idle": "2023-05-05T06:55:59.966201Z",
     "shell.execute_reply": "2023-05-05T06:55:59.965151Z"
    },
    "papermill": {
     "duration": 11.664326,
     "end_time": "2023-05-05T06:55:59.968976",
     "exception": false,
     "start_time": "2023-05-05T06:55:48.304650",
     "status": "completed"
    },
    "tags": []
   },
   "outputs": [
    {
     "name": "stdout",
     "output_type": "stream",
     "text": [
      "56/56 [==============================] - 11s 196ms/step\n"
     ]
    }
   ],
   "source": [
    "y_test = model.predict(x_test)"
   ]
  },
  {
   "cell_type": "code",
   "execution_count": 22,
   "id": "f5be4437",
   "metadata": {
    "execution": {
     "iopub.execute_input": "2023-05-05T06:56:00.359046Z",
     "iopub.status.busy": "2023-05-05T06:56:00.358227Z",
     "iopub.status.idle": "2023-05-05T06:56:00.471549Z",
     "shell.execute_reply": "2023-05-05T06:56:00.470123Z"
    },
    "papermill": {
     "duration": 0.310377,
     "end_time": "2023-05-05T06:56:00.474585",
     "exception": false,
     "start_time": "2023-05-05T06:56:00.164208",
     "status": "completed"
    },
    "tags": []
   },
   "outputs": [],
   "source": [
    "feature_names = list(lookup['FeatureName'])\n",
    "image_ids = list(lookup['ImageId']-1)\n",
    "row_ids = list(lookup['RowId'])\n",
    "\n",
    "feature_list = []\n",
    "for feature in feature_names:\n",
    "    feature_list.append(feature_names.index(feature))\n",
    "    \n",
    "    \n",
    "predictions = []\n",
    "for x,y in zip(image_ids, feature_list):\n",
    "    predictions.append(y_test[x][y])\n",
    "\n",
    "    \n",
    "row_ids = pd.Series(row_ids, name = 'RowId')\n",
    "locations = pd.Series(predictions, name = 'Location')\n",
    "locations = locations.clip(0.0,96.0)\n",
    "submission_result = pd.concat([row_ids,locations],axis = 1)\n",
    "submission_result.to_csv('submission.csv',index = False)"
   ]
  }
 ],
 "metadata": {
  "kernelspec": {
   "display_name": "Python 3",
   "language": "python",
   "name": "python3"
  },
  "language_info": {
   "codemirror_mode": {
    "name": "ipython",
    "version": 3
   },
   "file_extension": ".py",
   "mimetype": "text/x-python",
   "name": "python",
   "nbconvert_exporter": "python",
   "pygments_lexer": "ipython3",
   "version": "3.7.12"
  },
  "papermill": {
   "default_parameters": {},
   "duration": 5072.099715,
   "end_time": "2023-05-05T06:56:04.321283",
   "environment_variables": {},
   "exception": null,
   "input_path": "__notebook__.ipynb",
   "output_path": "__notebook__.ipynb",
   "parameters": {},
   "start_time": "2023-05-05T05:31:32.221568",
   "version": "2.4.0"
  }
 },
 "nbformat": 4,
 "nbformat_minor": 5
}
